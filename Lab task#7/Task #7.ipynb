{
 "cells": [
  {
   "cell_type": "markdown",
   "id": "f11cf386",
   "metadata": {},
   "source": [
    "Name: Sundas Shoukat\n",
    "\n",
    "Roll no. 057\n",
    "\n",
    "Section: BSDS-3A"
   ]
  },
  {
   "cell_type": "code",
   "execution_count": 1,
   "id": "316ae400",
   "metadata": {},
   "outputs": [
    {
     "name": "stdout",
     "output_type": "stream",
     "text": [
      "Path found: ['A', 'B', 'D']\n",
      "Final Result: ['A', 'B', 'D']\n"
     ]
    }
   ],
   "source": [
    "class Graph:\n",
    "    def __init__(self, graph):\n",
    "        self.graph = graph\n",
    "        self.h_values = {'A': 1, 'B': 1, 'C': 1, 'D': 1}  \n",
    "\n",
    "    def get_neighbors(self, node):\n",
    "        return self.graph.get(node, [])\n",
    "\n",
    "    def h(self, node):\n",
    "        return self.h_values[node]\n",
    "\n",
    "    def a_star(self, start, goal):\n",
    "        open_list = {start}\n",
    "        closed_list = set()\n",
    "        g = {start: 0}\n",
    "        parent = {start: None}\n",
    "\n",
    "        while open_list:\n",
    "            current = min(open_list, key=lambda n: g[n] + self.h(n))\n",
    "\n",
    "            if current == goal:\n",
    "                path = []\n",
    "                while current is not None:\n",
    "                    path.append(current)\n",
    "                    current = parent[current]\n",
    "                path.reverse()\n",
    "                print(\"Path found:\", path)\n",
    "                return path\n",
    "\n",
    "            open_list.remove(current)\n",
    "            closed_list.add(current)\n",
    "\n",
    "            for neighbor, cost in self.get_neighbors(current):\n",
    "                if neighbor in closed_list:\n",
    "                    continue\n",
    "\n",
    "                new_cost = g[current] + cost\n",
    "                if neighbor not in open_list or new_cost < g.get(neighbor, float('inf')):\n",
    "                    parent[neighbor] = current\n",
    "                    g[neighbor] = new_cost\n",
    "                    open_list.add(neighbor)\n",
    "\n",
    "        print(\"Path does not exist!\")\n",
    "        return None\n",
    "\n",
    "graph_data = {\n",
    "    'A': [('B', 1), ('C', 3), ('D', 7)],\n",
    "    'B': [('D', 5)],\n",
    "    'C': [('D', 12)]\n",
    "}\n",
    "g = Graph(graph_data)\n",
    "result = g.a_star('A', 'D')\n",
    "print(\"Final Result:\", result)\n"
   ]
  }
 ],
 "metadata": {
  "kernelspec": {
   "display_name": "base",
   "language": "python",
   "name": "python3"
  },
  "language_info": {
   "codemirror_mode": {
    "name": "ipython",
    "version": 3
   },
   "file_extension": ".py",
   "mimetype": "text/x-python",
   "name": "python",
   "nbconvert_exporter": "python",
   "pygments_lexer": "ipython3",
   "version": "3.12.7"
  }
 },
 "nbformat": 4,
 "nbformat_minor": 5
}
