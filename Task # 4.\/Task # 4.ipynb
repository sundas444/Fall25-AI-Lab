{
 "cells": [
  {
   "cell_type": "markdown",
   "id": "7064b8a9",
   "metadata": {},
   "source": [
    "Name: Sundas Shoukat\n",
    "\n",
    "Roll no. 057\n",
    "\n",
    "Section: DSDS-3A"
   ]
  },
  {
   "cell_type": "markdown",
   "id": "14eac18c",
   "metadata": {},
   "source": [
    "Question no.1"
   ]
  },
  {
   "cell_type": "markdown",
   "id": "2a82073f",
   "metadata": {},
   "source": [
    "!   @   #   $   %   ^   &   *   (   )  \n",
    "-   _   =   +   [   ]   {   }  \n",
    ";   :   '   \"   ,   <   .   >   /   ?   \\   | \n",
    "`   ~\n",
    "\n",
    "remove punctuation from a given string \n",
    "\n",
    "str =  \"kuch, bhi; kuch, bhi!\""
   ]
  },
  {
   "cell_type": "code",
   "execution_count": 1,
   "id": "cb049e73",
   "metadata": {},
   "outputs": [
    {
     "name": "stdout",
     "output_type": "stream",
     "text": [
      "Original String: kuch, bhi; kuch, bhi!\n",
      "After Removing Punctuation: kuch bhi kuch bhi\n"
     ]
    }
   ],
   "source": [
    "import string\n",
    "\n",
    "class RemovePunctuation:\n",
    "    def __init__(self, text):\n",
    "        self.text = text\n",
    "\n",
    "    def clean_string(self):\n",
    "\n",
    "        return self.text.translate(str.maketrans('', '', string.punctuation))\n",
    "        \n",
    "str1 = \"kuch, bhi; kuch, bhi!\"\n",
    "obj = RemovePunctuation(str1)\n",
    "\n",
    "print(\"Original String:\", str1)\n",
    "print(\"After Removing Punctuation:\", obj.clean_string())\n"
   ]
  },
  {
   "cell_type": "markdown",
   "id": "bba9aae2",
   "metadata": {},
   "source": [
    "Question no.2"
   ]
  },
  {
   "cell_type": "markdown",
   "id": "44a3b4c7",
   "metadata": {},
   "source": [
    "Sort a string:\n",
    "\n",
    "str = \"i am Sundas Shoukat\"\n",
    "\n",
    "by word , character , ascii"
   ]
  },
  {
   "cell_type": "code",
   "execution_count": 2,
   "id": "7d4df820",
   "metadata": {},
   "outputs": [
    {
     "name": "stdout",
     "output_type": "stream",
     "text": [
      "Original String: i am Sundas Shoukat\n",
      "Sorted by Word: Shoukat Sundas am i\n",
      "Sorted by Character: SSaaadhikmnostuu\n",
      "Sorted by ASCII:    SSaaadhikmnostuu\n"
     ]
    }
   ],
   "source": [
    "class MyString:\n",
    "    def __init__(self, text):\n",
    "        self.text = text\n",
    "    def bubble_sort(self, items):\n",
    "        n = len(items)\n",
    "        for i in range(n):\n",
    "            for j in range(0, n - i - 1):\n",
    "                if items[j] > items[j + 1]:\n",
    "                    items[j], items[j + 1] = items[j + 1], items[j]\n",
    "        return items\n",
    "\n",
    "    def sort_by_word(self):\n",
    "        words = self.text.split()\n",
    "        sorted_words = self.bubble_sort(words)\n",
    "        return \" \".join(sorted_words)\n",
    "    def sort_by_char(self):\n",
    "        chars = list(self.text.replace(\" \", \"\"))  \n",
    "        sorted_chars = self.bubble_sort(chars)\n",
    "        return \"\".join(sorted_chars)\n",
    "    def sort_by_ascii(self):\n",
    "        chars = list(self.text)\n",
    "        n = len(chars)\n",
    "        for i in range(n):\n",
    "            for j in range(0, n - i - 1):\n",
    "                if ord(chars[j]) > ord(chars[j + 1]):\n",
    "                    chars[j], chars[j + 1] = chars[j + 1], chars[j]\n",
    "        return \"\".join(chars)\n",
    "\n",
    "str1 = \"i am Sundas Shoukat\"\n",
    "obj = MyString(str1)\n",
    "\n",
    "print(\"Original String:\", str1)\n",
    "print(\"Sorted by Word:\", obj.sort_by_word())\n",
    "print(\"Sorted by Character:\", obj.sort_by_char())\n",
    "print(\"Sorted by ASCII:\", obj.sort_by_ascii())\n"
   ]
  },
  {
   "cell_type": "markdown",
   "id": "2968fee4",
   "metadata": {},
   "source": [
    "Question no.3\n",
    "\n",
    "Write a python program to sort the sentence in alphabetical order."
   ]
  },
  {
   "cell_type": "code",
   "execution_count": 1,
   "id": "57a115b2",
   "metadata": {},
   "outputs": [
    {
     "name": "stdout",
     "output_type": "stream",
     "text": [
      "Original Sentence: My teacher gave me homework today\n",
      "Sorted Sentence: My gave homework me teacher today\n"
     ]
    }
   ],
   "source": [
    "sentence = input(\"Enter a sentence: \")\n",
    "words = sentence.split()\n",
    "\n",
    "n = len(words)\n",
    "for i in range(n):\n",
    "    for j in range(0, n - i - 1):\n",
    "        if words[j] > words[j + 1]:\n",
    "            words[j], words[j + 1] = words[j + 1], words[j]\n",
    "\n",
    "sorted_sentence = \" \".join(words)\n",
    "\n",
    "print(\"Original Sentence:\", sentence)\n",
    "print(\"Sorted Sentence:\", sorted_sentence)"
   ]
  }
 ],
 "metadata": {
  "kernelspec": {
   "display_name": "base",
   "language": "python",
   "name": "python3"
  },
  "language_info": {
   "codemirror_mode": {
    "name": "ipython",
    "version": 3
   },
   "file_extension": ".py",
   "mimetype": "text/x-python",
   "name": "python",
   "nbconvert_exporter": "python",
   "pygments_lexer": "ipython3",
   "version": "3.12.7"
  }
 },
 "nbformat": 4,
 "nbformat_minor": 5
}
