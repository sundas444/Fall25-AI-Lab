{
 "cells": [
  {
   "cell_type": "markdown",
   "id": "c7ed698b",
   "metadata": {},
   "source": [
    "Name: Sundas Shoukat\n",
    "\n",
    "Roll no: 057\n",
    "\n",
    "Section: BSDS-2A"
   ]
  },
  {
   "cell_type": "markdown",
   "id": "1ffee460",
   "metadata": {},
   "source": [
    "Model-Based Reflex Agent:\n",
    " \n",
    "This agent not only checks the current temperature but also remembers the previous \n",
    "action to avoid turning the heater on or off unnecessarily."
   ]
  },
  {
   "cell_type": "code",
   "execution_count": 1,
   "id": "16289f41",
   "metadata": {},
   "outputs": [
    {
     "name": "stdout",
     "output_type": "stream",
     "text": [
      "Living Room:\t20 °C => Action: Turn ON Heater\n",
      "Drawing Room:\t22 °C => Action: Turn OFF Heater\n",
      "Kitchen:\t25 °C => Action: No change (keep Turn OFF Heater)\n"
     ]
    }
   ],
   "source": [
    "class ModelBasedReflexAgent:\n",
    "    def __init__(self, desired_temp):\n",
    "        self.desired_temp = desired_temp\n",
    "        self.last_action = None   # remember previous action\n",
    "\n",
    "    def sensor(self, current_temp):\n",
    "        self.current_temp = current_temp\n",
    "\n",
    "    def performance(self):\n",
    "        # Decide action based on current temp\n",
    "        if self.current_temp < self.desired_temp:\n",
    "            action = \"Turn ON Heater\"\n",
    "        else:\n",
    "            action = \"Turn OFF Heater\"\n",
    "\n",
    "        # Avoid unnecessary switching\n",
    "        if action == self.last_action:\n",
    "            return f\"No change (keep {action})\"\n",
    "        else:\n",
    "            self.last_action = action\n",
    "            return action\n",
    "\n",
    "    def actuator(self):\n",
    "        action = self.performance()\n",
    "        print(self.current_temp, \"°C => Action:\", action)\n",
    "\n",
    "\n",
    "# Example rooms with temperatures\n",
    "rooms = {\n",
    "    \"Living Room\": 20,\n",
    "    \"Drawing Room\": 22,\n",
    "    \"Kitchen\": 25,\n",
    "}\n",
    "\n",
    "# Desired temperature = 22°C\n",
    "agent = ModelBasedReflexAgent(22)\n",
    "\n",
    "for room, temp in rooms.items():\n",
    "    print(room, end=\":\\t\")\n",
    "    agent.sensor(temp)\n",
    "    agent.actuator()\n"
   ]
  }
 ],
 "metadata": {
  "kernelspec": {
   "display_name": "base",
   "language": "python",
   "name": "python3"
  },
  "language_info": {
   "codemirror_mode": {
    "name": "ipython",
    "version": 3
   },
   "file_extension": ".py",
   "mimetype": "text/x-python",
   "name": "python",
   "nbconvert_exporter": "python",
   "pygments_lexer": "ipython3",
   "version": "3.12.7"
  }
 },
 "nbformat": 4,
 "nbformat_minor": 5
}
