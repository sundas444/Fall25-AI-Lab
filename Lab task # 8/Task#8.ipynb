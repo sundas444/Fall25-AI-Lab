{
 "cells": [
  {
   "cell_type": "markdown",
   "id": "758578e9",
   "metadata": {},
   "source": [
    "Name: Sundas Shoukat\n",
    "\n",
    "Roll no.057\n",
    "\n",
    "Section: BSDS-3A"
   ]
  },
  {
   "cell_type": "markdown",
   "id": "199ec4a5",
   "metadata": {},
   "source": [
    "Min-Max :"
   ]
  },
  {
   "cell_type": "code",
   "execution_count": 13,
   "id": "87efd711",
   "metadata": {},
   "outputs": [
    {
     "name": "stdout",
     "output_type": "stream",
     "text": [
      "2\n"
     ]
    }
   ],
   "source": [
    "import math\n",
    "values = [3, 1, 5, 2, 7, 8, 9, 9]\n",
    "levels = (math.log(len(values), 2))    # levels = 3\n",
    "\n",
    "def minmaxalgo(currDepth, nodeIndex, minTurn, values, totalDepth):\n",
    "    if currDepth == totalDepth:\n",
    "        return values[nodeIndex]\n",
    "    if minTurn:          # minturn\n",
    "        return min(\n",
    "            minmaxalgo(currDepth+1, nodeIndex*2, False, values, totalDepth),\n",
    "            minmaxalgo(currDepth+1, nodeIndex*2+1, False, values, totalDepth)\n",
    "            )\n",
    "    else:                 # maxturn\n",
    "        return max(\n",
    "            (minmaxalgo(currDepth+1, nodeIndex*2, True, values, totalDepth),\n",
    "            minmaxalgo(currDepth+1, nodeIndex*2+1, True, values, totalDepth))\n",
    "            )\n",
    "print(minmaxalgo(0, 0, True, values, levels))      # answer = 2"
   ]
  }
 ],
 "metadata": {
  "kernelspec": {
   "display_name": "base",
   "language": "python",
   "name": "python3"
  },
  "language_info": {
   "codemirror_mode": {
    "name": "ipython",
    "version": 3
   },
   "file_extension": ".py",
   "mimetype": "text/x-python",
   "name": "python",
   "nbconvert_exporter": "python",
   "pygments_lexer": "ipython3",
   "version": "3.12.7"
  }
 },
 "nbformat": 4,
 "nbformat_minor": 5
}
