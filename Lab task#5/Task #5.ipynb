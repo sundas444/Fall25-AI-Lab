{
 "cells": [
  {
   "cell_type": "markdown",
   "id": "9f7e79d1",
   "metadata": {},
   "source": [
    "Name: Sundas Shoukat\n",
    "\n",
    "Roll no. 057\n",
    "\n",
    "Section:BSDS-3A"
   ]
  },
  {
   "cell_type": "markdown",
   "id": "518dbaff",
   "metadata": {},
   "source": [
    " Question no. 1\n",
    " \n",
    " DFS with Stack"
   ]
  },
  {
   "cell_type": "code",
   "execution_count": 5,
   "id": "af5a4496",
   "metadata": {},
   "outputs": [
    {
     "name": "stdout",
     "output_type": "stream",
     "text": [
      "DFS using Stack:\n",
      "0 1 3 4 2 "
     ]
    }
   ],
   "source": [
    "\n",
    "def dfs_stack(graph, start):\n",
    "    visited = set()\n",
    "    stack = [start]   \n",
    "\n",
    "    while stack:\n",
    "        vertex = stack.pop()   \n",
    "        if vertex not in visited:\n",
    "            print(vertex, end=\" \")\n",
    "            visited.add(vertex)\n",
    "            stack.extend(reversed(graph[vertex]))\n",
    "\n",
    "graph = {\n",
    "    0: [1, 2],\n",
    "    1: [0, 3, 4],\n",
    "    2: [0],\n",
    "    3: [1],\n",
    "    4: [2, 3]\n",
    "}\n",
    "\n",
    "print(\"DFS using Stack:\")\n",
    "dfs_stack(graph, 0)\n"
   ]
  },
  {
   "cell_type": "markdown",
   "id": "5c5ea750",
   "metadata": {},
   "source": [
    "Question no.2\n",
    "\n",
    "Research about \"Inorder, Preorder, Postorder\" and implement in DFS"
   ]
  },
  {
   "cell_type": "code",
   "execution_count": 3,
   "id": "812a2324",
   "metadata": {},
   "outputs": [
    {
     "name": "stdout",
     "output_type": "stream",
     "text": [
      "Preorder Traversal:\n",
      "1 2 4 5 3 \n",
      "Inorder Traversal:\n",
      "4 2 5 1 3 \n",
      "Postorder Traversal:\n",
      "4 5 2 3 1 "
     ]
    }
   ],
   "source": [
    "\n",
    "class Node:\n",
    "    def __init__(self, key):\n",
    "        self.left = None\n",
    "        self.right = None\n",
    "        self.val = key\n",
    "def preorder(root):\n",
    "    if root:\n",
    "        print(root.val, end=\" \")\n",
    "        preorder(root.left)\n",
    "        preorder(root.right)\n",
    "def inorder(root):\n",
    "    if root:\n",
    "        inorder(root.left)\n",
    "        print(root.val, end=\" \")\n",
    "        inorder(root.right)\n",
    "def postorder(root):\n",
    "    if root:\n",
    "        postorder(root.left)\n",
    "        postorder(root.right)\n",
    "        print(root.val, end=\" \")\n",
    "\n",
    "root = Node(1)\n",
    "root.left = Node(2)\n",
    "root.right = Node(3)\n",
    "root.left.left = Node(4)\n",
    "root.left.right = Node(5)\n",
    "\n",
    "print(\"Preorder Traversal:\")\n",
    "preorder(root)\n",
    "\n",
    "print(\"\\nInorder Traversal:\")\n",
    "inorder(root)\n",
    "\n",
    "print(\"\\nPostorder Traversal:\")\n",
    "postorder(root)\n"
   ]
  }
 ],
 "metadata": {
  "kernelspec": {
   "display_name": "base",
   "language": "python",
   "name": "python3"
  },
  "language_info": {
   "codemirror_mode": {
    "name": "ipython",
    "version": 3
   },
   "file_extension": ".py",
   "mimetype": "text/x-python",
   "name": "python",
   "nbconvert_exporter": "python",
   "pygments_lexer": "ipython3",
   "version": "3.12.7"
  }
 },
 "nbformat": 4,
 "nbformat_minor": 5
}
