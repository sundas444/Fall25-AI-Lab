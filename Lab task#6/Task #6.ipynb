{
 "cells": [
  {
   "cell_type": "markdown",
   "id": "a90bdf22",
   "metadata": {},
   "source": [
    "Name: Sundas Shoukat\n",
    "\n",
    "Roll no.057\n",
    "\n",
    "Section:BSDS-3A"
   ]
  },
  {
   "cell_type": "markdown",
   "id": "d4ee0108",
   "metadata": {},
   "source": [
    "# Question no.1"
   ]
  },
  {
   "cell_type": "markdown",
   "id": "5ee69aa2",
   "metadata": {},
   "source": [
    "BFS without Queue"
   ]
  },
  {
   "cell_type": "code",
   "execution_count": 3,
   "id": "52704230",
   "metadata": {},
   "outputs": [
    {
     "name": "stdout",
     "output_type": "stream",
     "text": [
      "BFS traversal without queue:\n",
      "A\n",
      "B\n",
      "C\n",
      "D\n",
      "E\n",
      "F\n",
      "G\n",
      "H\n",
      "I\n",
      "K\n",
      "L\n",
      "M\n"
     ]
    }
   ],
   "source": [
    "\n",
    "graph = {\n",
    "    'A': ['B', 'C'],\n",
    "    'B': ['D', 'E'],\n",
    "    'C': ['F'],\n",
    "    'D': ['G', 'H'],\n",
    "    'E': [],\n",
    "    'F': ['I', 'K'],\n",
    "    'G': [],\n",
    "    'H': ['L'],\n",
    "    'I': [],\n",
    "    'K': ['M'],\n",
    "    'L': [],\n",
    "    'M': []\n",
    "}\n",
    "\n",
    "def bfs_without_queue(start):\n",
    "    visited = []\n",
    "    level = [start]\n",
    "\n",
    "    while level:\n",
    "        next_level = []\n",
    "        for i in range(len(level)):\n",
    "            if level[i] not in visited:\n",
    "                print(level[i])\n",
    "                visited.append(level[i])\n",
    "                next_level += graph[level[i]]\n",
    "        level = next_level\n",
    "\n",
    "print(\"BFS traversal without queue:\")\n",
    "bfs_without_queue('A')\n"
   ]
  },
  {
   "cell_type": "markdown",
   "id": "fd0e5b83",
   "metadata": {},
   "source": [
    "# Question no.2"
   ]
  },
  {
   "cell_type": "markdown",
   "id": "16419ed4",
   "metadata": {},
   "source": [
    "BFS with queue"
   ]
  },
  {
   "cell_type": "code",
   "execution_count": 2,
   "id": "0c782b6c",
   "metadata": {},
   "outputs": [
    {
     "name": "stdout",
     "output_type": "stream",
     "text": [
      "BFS traversal with queue:\n",
      "A\n",
      "B\n",
      "C\n",
      "D\n",
      "E\n",
      "F\n",
      "G\n",
      "H\n",
      "I\n",
      "K\n",
      "L\n",
      "M\n"
     ]
    }
   ],
   "source": [
    "from collections import deque\n",
    "graph = {\n",
    "    'A': ['B', 'C'],\n",
    "    'B': ['D', 'E'],\n",
    "    'C': ['F'],\n",
    "    'D': ['G', 'H'],\n",
    "    'E': [],\n",
    "    'F': ['I', 'K'],\n",
    "    'G': [],\n",
    "    'H': ['L'],\n",
    "    'I': [],\n",
    "    'K': ['M'],\n",
    "    'L': [],\n",
    "    'M': []\n",
    "}\n",
    "\n",
    "def bfs_with_queue(start):\n",
    "    visited = []\n",
    "    queue = deque([start])\n",
    "\n",
    "    while queue:\n",
    "        current = queue.popleft()\n",
    "        if current not in visited:\n",
    "            print(current)\n",
    "            visited.append(current)\n",
    "            for child in graph[current]:\n",
    "                queue.append(child)\n",
    "\n",
    "print(\"BFS traversal with queue:\")\n",
    "bfs_with_queue('A')\n"
   ]
  }
 ],
 "metadata": {
  "kernelspec": {
   "display_name": "base",
   "language": "python",
   "name": "python3"
  },
  "language_info": {
   "codemirror_mode": {
    "name": "ipython",
    "version": 3
   },
   "file_extension": ".py",
   "mimetype": "text/x-python",
   "name": "python",
   "nbconvert_exporter": "python",
   "pygments_lexer": "ipython3",
   "version": "3.12.7"
  }
 },
 "nbformat": 4,
 "nbformat_minor": 5
}
